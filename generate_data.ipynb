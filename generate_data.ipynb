{
 "cells": [
  {
   "cell_type": "code",
   "execution_count": 1,
   "metadata": {},
   "outputs": [
    {
     "name": "stdout",
     "output_type": "stream",
     "text": [
      "Dataset with 1000 rows generated and saved to 'orders.csv'\n",
      "\n",
      "First 5 rows of the dataset:\n",
      "   OrderID CustomerID  OrderDate Region ProductCategory       ProductName  \\\n",
      "0        1    CUST239 2023-11-24   East     Electronics      Smartphone X   \n",
      "1        2    CUST157 2023-02-27   West     Electronics  Dining Table Set   \n",
      "2        3    CUST265 2023-01-13  North     Electronics      Smartphone X   \n",
      "3        4    CUST138 2023-05-21   East            Food    Organic Apples   \n",
      "4        5    CUST168 2023-05-06   East      Home Goods    Jeans Slim Fit   \n",
      "\n",
      "   Quantity  PricePerUnit  PaymentMethod  CustomerAge  TotalPrice  \n",
      "0         4        356.14  Bank Transfer           52     1424.56  \n",
      "1         9        474.68         PayPal           22     4272.12  \n",
      "2         9         20.55  Bank Transfer           44      184.95  \n",
      "3         9        369.42     Debit Card           61     3324.78  \n",
      "4         7        168.47     Debit Card           29     1179.29  \n"
     ]
    }
   ],
   "source": [
    "import pandas as pd\n",
    "import numpy as np\n",
    "import random\n",
    "from datetime import datetime, timedelta\n",
    "\n",
    "# Set a seed for reproducibility\n",
    "np.random.seed(42)\n",
    "random.seed(42)\n",
    "\n",
    "# --- Data Generation Parameters ---\n",
    "num_rows = 1000\n",
    "product_categories = ['Electronics', 'Books', 'Clothing', 'Home Goods', 'Food']\n",
    "regions = ['North', 'South', 'East', 'West']\n",
    "payment_methods = ['Credit Card', 'Debit Card', 'PayPal', 'Bank Transfer']\n",
    "customer_ages = range(18, 70)\n",
    "product_names = [\n",
    "    'Laptop Pro', 'Smartphone X', 'E-Reader Basic', 'Mystery Novel', 'Sci-Fi Classic',\n",
    "    'T-Shirt V-Neck', 'Jeans Slim Fit', 'Blender Deluxe', 'Coffee Maker', 'Organic Apples',\n",
    "    'Gaming Mouse', 'Headphones ANC', 'Cookbook Veggie', 'Sneakers Urban', 'Dining Table Set'\n",
    "]\n",
    "\n",
    "# Generate Dates\n",
    "start_date = datetime(2023, 1, 1)\n",
    "dates = [start_date + timedelta(days=random.randint(0, 364)) for _ in range(num_rows)]\n",
    "\n",
    "# Generate Customer IDs (some repetition for grouping)\n",
    "customer_ids = [f'CUST{random.randint(100, 300)}' for _ in range(num_rows)]\n",
    "\n",
    "# Generate Product IDs (some repetition)\n",
    "product_ids = [f'PROD{random.randint(1, 50)}' for _ in range(num_rows)]\n",
    "\n",
    "\n",
    "data = {\n",
    "    'OrderID': range(1, num_rows + 1),\n",
    "    'CustomerID': customer_ids,\n",
    "    'OrderDate': dates,\n",
    "    'Region': np.random.choice(regions, num_rows),\n",
    "    'ProductCategory': np.random.choice(product_categories, num_rows),\n",
    "    'ProductName': np.random.choice(product_names, num_rows),\n",
    "    'Quantity': np.random.randint(1, 10, num_rows),\n",
    "    'PricePerUnit': np.round(np.random.uniform(5, 500, num_rows), 2),\n",
    "    'PaymentMethod': np.random.choice(payment_methods, num_rows),\n",
    "    'CustomerAge': np.random.choice(customer_ages, num_rows)\n",
    "}\n",
    "\n",
    "df = pd.DataFrame(data)\n",
    "\n",
    "# Calculate TotalPrice\n",
    "df['TotalPrice'] = df['Quantity'] * df['PricePerUnit']\n",
    "\n",
    "# Save to CSV\n",
    "csv_file_path = 'orders.csv'\n",
    "df.to_csv(csv_file_path, index=False)\n",
    "\n",
    "print(f\"Dataset with {num_rows} rows generated and saved to '{csv_file_path}'\")\n",
    "print(\"\\nFirst 5 rows of the dataset:\")\n",
    "print(df.head())"
   ]
  }
 ],
 "metadata": {
  "kernelspec": {
   "display_name": "Python 3",
   "language": "python",
   "name": "python3"
  },
  "language_info": {
   "codemirror_mode": {
    "name": "ipython",
    "version": 3
   },
   "file_extension": ".py",
   "mimetype": "text/x-python",
   "name": "python",
   "nbconvert_exporter": "python",
   "pygments_lexer": "ipython3",
   "version": "3.13.2"
  }
 },
 "nbformat": 4,
 "nbformat_minor": 2
}
